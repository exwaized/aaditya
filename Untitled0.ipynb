{
  "nbformat": 4,
  "nbformat_minor": 0,
  "metadata": {
    "colab": {
      "provenance": [],
      "authorship_tag": "ABX9TyN6iiKqjf0d9ZweziMD3uGX",
      "include_colab_link": true
    },
    "kernelspec": {
      "name": "python3",
      "display_name": "Python 3"
    },
    "language_info": {
      "name": "python"
    }
  },
  "cells": [
    {
      "cell_type": "markdown",
      "metadata": {
        "id": "view-in-github",
        "colab_type": "text"
      },
      "source": [
        "<a href=\"https://colab.research.google.com/github/exwaized/aaditya/blob/main/Untitled0.ipynb\" target=\"_parent\"><img src=\"https://colab.research.google.com/assets/colab-badge.svg\" alt=\"Open In Colab\"/></a>"
      ]
    },
    {
      "cell_type": "code",
      "source": [
        "# prompt: sonar mine vs rock prediction\n",
        "\n",
        "import numpy as np\n",
        "import pandas as pd\n",
        "from sklearn.model_selection import train_test_split\n",
        "from sklearn.linear_model import LogisticRegression\n",
        "from sklearn.metrics import accuracy_score\n",
        "\n",
        "# Load the dataset\n",
        "df = pd.read_csv('sonardata.csv', header=None)\n",
        "\n",
        "# Separate features and target\n",
        "X = df.drop(60, axis=1)\n",
        "y = df[60]\n",
        "\n",
        "# Convert target variable to numerical (M=1, R=0)\n",
        "y = y.replace({'M': 1, 'R': 0})\n",
        "\n",
        "# Split data into training and testing sets\n",
        "X_train, X_test, y_train, y_test = train_test_split(X, y, test_size=0.2, random_state=42)\n",
        "\n",
        "# Initialize and train the Logistic Regression model\n",
        "model = LogisticRegression()\n",
        "model.fit(X_train, y_train)\n",
        "\n",
        "# Make predictions on the test set\n",
        "y_pred = model.predict(X_test)\n",
        "\n",
        "# Evaluate the model\n",
        "accuracy = accuracy_score(y_test, y_pred)\n",
        "print(\"Accuracy:\", accuracy)\n",
        "\n",
        "# Example prediction on a single data point\n",
        "# Replace with actual data for prediction\n",
        "# input_data = (0.02,0.0371,0.0428,0.0207,0.0954,0.0986,0.1539,0.1601,0.3109,0.2111,0.1609,0.1582,0.2232,0.3236,0.3159,0.3432,0.4372,0.5419,0.6362,0.7194,0.6787,0.6942,0.5681,0.4519,0.4391,0.4679,0.3808,0.5374,0.6256,0.6465,0.8431,0.7449,0.8167,0.6722,0.3234,0.1711,0.0951,0.0351,0.0383,0.0617,0.0789,0.0084,0.009,0.0032,0.0057,0.0081,0.007,0.0014,0.0049,0.0097,0.0194,0.018)\n",
        "# input_data_as_numpy_array = np.asarray(input_data)\n",
        "# input_data_reshaped = input_data_as_numpy_array.reshape(1,-1)\n",
        "# prediction = model.predict(input_data_reshaped)\n",
        "\n",
        "# if (prediction[0]==1):\n",
        "#   print('The object is a Mine')\n",
        "# else:\n",
        "#   print('The object is a Rock')\n"
      ],
      "metadata": {
        "colab": {
          "base_uri": "https://localhost:8080/"
        },
        "id": "2NIPGEegNBIm",
        "outputId": "62c75d45-9e2b-41a3-b855-b84beebc4af1"
      },
      "execution_count": 4,
      "outputs": [
        {
          "output_type": "stream",
          "name": "stdout",
          "text": [
            "Accuracy: 0.7857142857142857\n"
          ]
        },
        {
          "output_type": "stream",
          "name": "stderr",
          "text": [
            "/tmp/ipython-input-4-561771070.py:17: FutureWarning: Downcasting behavior in `replace` is deprecated and will be removed in a future version. To retain the old behavior, explicitly call `result.infer_objects(copy=False)`. To opt-in to the future behavior, set `pd.set_option('future.no_silent_downcasting', True)`\n",
            "  y = y.replace({'M': 1, 'R': 0})\n"
          ]
        }
      ]
    },
    {
      "cell_type": "code",
      "execution_count": 4,
      "metadata": {
        "id": "EIhxB2fuLOJI"
      },
      "outputs": [],
      "source": []
    }
  ]
}